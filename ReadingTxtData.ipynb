{
 "cells": [
  {
   "cell_type": "code",
   "execution_count": 77,
   "id": "8532b610",
   "metadata": {},
   "outputs": [],
   "source": [
    "import pandas as pd\n",
    "import numpy as np\n",
    "import re\n",
    "\n",
    "#opens file\n",
    "file = open(\"sampleLOB.txt\")"
   ]
  },
  {
   "cell_type": "code",
   "execution_count": 78,
   "id": "b668f0cc",
   "metadata": {},
   "outputs": [],
   "source": [
    "#stores data from file in array and strips whitespace\n",
    "data = [line for line in file.readlines() if re.search(\"[\\w].*\", line) != None][1:]"
   ]
  },
  {
   "cell_type": "code",
   "execution_count": 79,
   "id": "3dda95a1",
   "metadata": {},
   "outputs": [],
   "source": [
    "organisedData = []\n",
    "#converts to human readable lines\n",
    "for line in data:\n",
    "    for word in line.split(\" \"):\n",
    "        if word != '\\x00':\n",
    "            charArray = word.split(\"\\x00\")[:-1]\n",
    "            modifiedWord = \"\"\n",
    "            for char in charArray:\n",
    "                modifiedWord += char\n",
    "                \n",
    "            #removes speech marks and commas of time, bid and ask lines\n",
    "            if \"time\" in modifiedWord or \"bid\" in modifiedWord or \"ask\" in modifiedWord:\n",
    "                modifiedWord = modifiedWord[1:-2]\n",
    "            organisedData.append(modifiedWord)"
   ]
  },
  {
   "cell_type": "code",
   "execution_count": 80,
   "id": "d5ca0fae",
   "metadata": {},
   "outputs": [],
   "source": [
    "def chunkArrayByWord(ls,chunkWord):   \n",
    "    chunkedData = []\n",
    "    chunk = []\n",
    "    for line in ls:\n",
    "        if line==chunkWord:\n",
    "            chunkedData.append(chunk)\n",
    "            chunk = []\n",
    "        else:\n",
    "            chunk.append(line)\n",
    "    return chunkedData\n",
    "\n",
    "chunkedData = chunkArrayByWord(organisedData, 'time')[1:]\n",
    "\n",
    "#remove entries where there are no entries in the order log book\n",
    "chunkedData = list(filter(lambda timeEntry: len(timeEntry)>3, chunkedData))\n",
    "\n",
    "evenChunkierData = []\n",
    "for time in chunkedData:\n",
    "    bidPos = 1 #it will always be 1\n",
    "    askPos = time.index('ask')\n",
    "    evenChunkierData.append([time[0], time[bidPos+1:askPos], time[askPos+1:]])\n",
    "\n",
    "organisedData = []\n",
    "for time in evenChunkierData:\n",
    "    bids = []\n",
    "    asks = []\n",
    "    for i, bid in enumerate(time[1]):\n",
    "        if i % 2 != 0:\n",
    "            bids.append(time[1][i-1:i+1])\n",
    "    for i, ask in enumerate(time[2]):\n",
    "        if i % 2 != 0:\n",
    "            asks.append(time[2][i-1:i+1])\n",
    "    organisedData.append([time[0], bids, asks])"
   ]
  },
  {
   "cell_type": "code",
   "execution_count": 81,
   "id": "651f6db2",
   "metadata": {},
   "outputs": [
    {
     "data": {
      "text/plain": [
       "array(['3', '3', '3', ..., '4', '2', '5'], dtype='<U32')"
      ]
     },
     "execution_count": 81,
     "metadata": {},
     "output_type": "execute_result"
    }
   ],
   "source": [
    "# now we aim to flatten the data into tabular data which we will eventually use for the csv file\n",
    "tabularData =[]\n",
    "for time in organisedData:\n",
    "    for bids in time[1]:\n",
    "        tabularData.append([\n",
    "            float(time[0][:-1]), #removes comma and converts to float\n",
    "            'bid',\n",
    "            int(bids[0][:-1]), #removes comma and converts to int\n",
    "            int(bids[1]) #converts to int\n",
    "        ])\n",
    "    for asks in time[2]:\n",
    "        tabularData.append([\n",
    "            float(time[0][:-1]), #removes comma and converts to float\n",
    "            'ask',\n",
    "            int(asks[0][:-1]),#removes comma and converts to int\n",
    "            int(asks[1]) #converts to int\n",
    "        ])       \n",
    "np.array(tabularData)[:,3]"
   ]
  },
  {
   "cell_type": "code",
   "execution_count": 82,
   "id": "170a84c7",
   "metadata": {},
   "outputs": [],
   "source": [
    "#We can save this uncompressed data as csv data\n",
    "dict = {\n",
    "    'Time': np.array(tabularData)[:,0],\n",
    "    'Transaction': np.array(tabularData)[:,1],\n",
    "    'Value': np.array(tabularData)[:,2],\n",
    "    'Amount': np.array(tabularData)[:,3],\n",
    "}  \n",
    "       \n",
    "df = pd.DataFrame(dict)\n",
    "df.to_csv('tabularData.csv') "
   ]
  },
  {
   "cell_type": "code",
   "execution_count": 83,
   "id": "cf58d992",
   "metadata": {},
   "outputs": [
    {
     "name": "stdout",
     "output_type": "stream",
     "text": [
      "[['0.48' '2.592' 'bid' '27' '3']\n",
      " ['1.504' '3.104' 'bid' '183' '4']\n",
      " ['1.696' '2.992' 'ask' '739' '5']\n",
      " ['2.416' '5.2' 'ask' '222' '2']\n",
      " ['2.528' '3.12' 'bid' '172' '5']\n",
      " ['2.608' '2.912' 'bid' '139' '3']\n",
      " ['2.928' '3.856' 'bid' '95' '3']\n",
      " ['2.96' '4.992' 'bid' '196' '3']\n",
      " ['3.008' '5.2' 'ask' '651' '5']\n",
      " ['3.12' '5.2' 'bid' '187' '4']\n",
      " ['3.136' '5.2' 'bid' '175' '5']\n",
      " ['3.52' '4.352' 'bid' '51' '3']\n",
      " ['3.872' '4.24' 'bid' '49' '3']\n",
      " ['4.256' '5.2' 'bid' '199' '3']\n",
      " ['4.368' '4.848' 'bid' '44' '3']\n",
      " ['4.608' '5.2' 'ask' '209' '4']\n",
      " ['4.864' '5.2' 'bid' '153' '3']\n",
      " ['5.008' '5.056' 'bid' '199' '6']\n",
      " ['5.072' '5.2' 'bid' '201' '3']]\n"
     ]
    }
   ],
   "source": [
    "#we now need to the start and end time of a bid or ask\n",
    "def createEntryWithStartAndEndTime(tabularData):\n",
    "    tabularData = list(map(lambda row: [int(row[0]/0.016),row[0],row[1],row[2], row[3]], tabularData))\n",
    "    initialEntryOfInterest = tabularData[0]\n",
    "    startDate = tabularData[0][1]\n",
    "    endDate = -1\n",
    "    \n",
    "    rowsOfInterest = list(filter(lambda e: e[-3:] == initialEntryOfInterest[-3:], tabularData))\n",
    "    historyOfAnEntry = []\n",
    "    #historyOfAnEntry = [initialEntryOfInterest]\n",
    "    \n",
    "    for i, row in enumerate(rowsOfInterest):\n",
    "        if (i+1)==len(rowsOfInterest) or row[0] == rowsOfInterest[i+1][0]:\n",
    "            historyOfAnEntry = historyOfAnEntry + rowsOfInterest[:i+1]\n",
    "    if len(historyOfAnEntry) != 0:\n",
    "        endDate = historyOfAnEntry[-1][1]\n",
    "    else:\n",
    "        historyOfAnEntry.append(initialEntryOfInterest)\n",
    "        endDate = -1\n",
    "    \n",
    "    tabularData = list(map(lambda row: row[1:], filter(lambda row: row not in historyOfAnEntry, tabularData)))\n",
    "    \n",
    "    return [startDate, endDate] + initialEntryOfInterest[2:], tabularData\n",
    "\n",
    "def compressDataToStartAndEndTime(tabularData):\n",
    "    data = tabularData\n",
    "    \n",
    "    compressed = []\n",
    "    while data != []:\n",
    "        entry, data = createEntryWithStartAndEndTime(data)\n",
    "        compressed.append(entry)\n",
    "    \n",
    "    return np.array(compressed)\n",
    "    \n",
    "compressed = compressDataToStartAndEndTime(tabularData)\n",
    "print(compressed)"
   ]
  },
  {
   "cell_type": "markdown",
   "id": "9ddc471f",
   "metadata": {},
   "source": [
    "the error lies with the last value of a history of transaction"
   ]
  },
  {
   "cell_type": "code",
   "execution_count": 84,
   "id": "ae95bbca",
   "metadata": {},
   "outputs": [],
   "source": [
    "#Now we just need to save the data as a csv file\n",
    "dict = {\n",
    "    'Start_Time': np.array(compressed)[:,0],\n",
    "    'End_Time': np.array(compressed)[:,1],\n",
    "    'Transaction': np.array(compressed)[:,2],\n",
    "    'Value': np.array(compressed)[:,3],\n",
    "    'Amount': np.array(compressed)[:,4],\n",
    "}  \n",
    "       \n",
    "df = pd.DataFrame(dict)\n",
    "df.to_csv('compressedTabularData.csv') "
   ]
  }
 ],
 "metadata": {
  "kernelspec": {
   "display_name": "Python 3 (ipykernel)",
   "language": "python",
   "name": "python3"
  },
  "language_info": {
   "codemirror_mode": {
    "name": "ipython",
    "version": 3
   },
   "file_extension": ".py",
   "mimetype": "text/x-python",
   "name": "python",
   "nbconvert_exporter": "python",
   "pygments_lexer": "ipython3",
   "version": "3.9.7"
  }
 },
 "nbformat": 4,
 "nbformat_minor": 5
}
